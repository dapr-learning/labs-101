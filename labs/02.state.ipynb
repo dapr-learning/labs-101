{
 "cells": [
  {
   "attachments": {},
   "cell_type": "markdown",
   "metadata": {},
   "source": [
    "# Lab 2: State management"
   ]
  },
  {
   "attachments": {},
   "cell_type": "markdown",
   "metadata": {},
   "source": [
    "## Overview\n",
    "\n",
    "Your application can use Dapr’s state management API to save, read, and query **key/value pairs** in the supported state stores (such as Redis, Azure Cosmos DB, and Azure SQL Server). See the full list of supported state stores [here](https://docs.dapr.io/reference/components-reference/supported-state-stores/). Using a state store component, you can build stateful, long running applications that save and retrieve their state (like a shopping cart or a game’s session state). \n",
    "\n",
    "In this lab, you will learn how to use the Dapr state management API to save and retrieve state."
   ]
  },
  {
   "attachments": {},
   "cell_type": "markdown",
   "metadata": {},
   "source": [
    "### Features\n",
    "\n",
    "With the state management API building block, your application can leverage features that are _typically complicated and error-prone to build_, including:\n",
    "1. Concurrency control - Optimistic Concurrency Control (OCC) using ETags\n",
    "1. Data consistency - Strong and Eventual consistency\n",
    "1. Multi-read and multi-write - Bulk (read) or transactional (write, update, and delete) operations\n",
    "1. Querying and filtering using key/value data\n",
    "1. Automatic client encryption\n",
    "1. Time-to-live (TTL) for state entries"
   ]
  },
  {
   "attachments": {},
   "cell_type": "markdown",
   "metadata": {},
   "source": [
    "## Prerequisites\n",
    "\n",
    "1. [Install Dapr CLI](https://docs.dapr.io/getting-started/install-dapr-cli/).\n",
    "1. Initialize Dapr in your local environment, run `dapr init` in your terminal.\n",
    "1. Run the cell below to import some helper functions used in this lab."
   ]
  },
  {
   "cell_type": "code",
   "execution_count": 2,
   "metadata": {},
   "outputs": [],
   "source": [
    "# Run this cell to import the necessary libraries\n",
    "import json\n",
    "import os\n",
    "import sys\n",
    "\n",
    "sys.path.append(os.path.abspath('../utils'))\n",
    "from shell import execute, execute_async"
   ]
  },
  {
   "attachments": {},
   "cell_type": "markdown",
   "metadata": {},
   "source": [
    "If you have set up everything correctly, the following command should display:\n",
    "```text\n",
    "CLI version: x.y.z \n",
    "Runtime version: a.b.c\n",
    "```"
   ]
  },
  {
   "cell_type": "code",
   "execution_count": 3,
   "metadata": {},
   "outputs": [
    {
     "name": "stdout",
     "output_type": "stream",
     "text": [
      "CLI version: edge \n",
      "Runtime version: 1.9.3\n",
      "\n"
     ]
    }
   ],
   "source": [
    "print(execute(\"dapr --version\"))"
   ]
  },
  {
   "attachments": {},
   "cell_type": "markdown",
   "metadata": {},
   "source": [
    "Next, run the Dapr process on port 3500."
   ]
  },
  {
   "cell_type": "code",
   "execution_count": 9,
   "metadata": {},
   "outputs": [],
   "source": [
    "# Start a daprd process listening on port 3500\n",
    "execute_async(\"dapr run --app-id state-lab-app --dapr-http-port 3500\")"
   ]
  },
  {
   "attachments": {},
   "cell_type": "markdown",
   "metadata": {},
   "source": [
    "Validate that Dapr is running!\n",
    "\n",
    "Expected output:\n",
    "```text\n",
    "  APP ID         HTTP PORT  GRPC PORT  APP PORT  COMMAND  AGE  CREATED  DAPRD PID  CLI PID  \n",
    "  state-lab-app  3500       <random>      0               <X> <datetime>  <pid>     <pid>    \n",
    "```"
   ]
  },
  {
   "cell_type": "code",
   "execution_count": 5,
   "metadata": {},
   "outputs": [
    {
     "name": "stdout",
     "output_type": "stream",
     "text": [
      "  APP ID         HTTP PORT  GRPC PORT  APP PORT  COMMAND  AGE  CREATED              DAPRD PID  CLI PID  \n",
      "  state-lab-app  3500       58591      0                  3s   2022-11-16 22:16.53  11329      11324    \n",
      "\n"
     ]
    }
   ],
   "source": [
    "print(execute(\"dapr list\"))"
   ]
  },
  {
   "attachments": {},
   "cell_type": "markdown",
   "metadata": {},
   "source": [
    "## Common state operations\n",
    "\n",
    "Now that you have setup Dapr, you can start using the state management API. We will be using cURL via Python to call Dapr APIs. Note, the Dapr CLI comes with a Redis state store component pre-installed, which is used in this lab."
   ]
  },
  {
   "attachments": {},
   "cell_type": "markdown",
   "metadata": {},
   "source": [
    "### Save a key/value pair"
   ]
  },
  {
   "cell_type": "code",
   "execution_count": 6,
   "metadata": {},
   "outputs": [
    {
     "data": {
      "text/plain": [
       "''"
      ]
     },
     "execution_count": 6,
     "metadata": {},
     "output_type": "execute_result"
    }
   ],
   "source": [
    "request_body = json.dumps([{\"key\":\"dapr is\", \"value\":\"awesome\"}])\n",
    "execute(f'curl -X POST \\\n",
    "    -H \"Content-Type: application/json\" \\\n",
    "    -d \\'{request_body}\\' \\\n",
    "    http://localhost:3500/v1.0/state/statestore')"
   ]
  },
  {
   "attachments": {},
   "cell_type": "markdown",
   "metadata": {},
   "source": [
    "### Get value for a key\n",
    "\n",
    "Expected output:\n",
    "```text\n",
    "\"awesome\"\n",
    "```"
   ]
  },
  {
   "cell_type": "code",
   "execution_count": 7,
   "metadata": {},
   "outputs": [
    {
     "data": {
      "text/plain": [
       "'\"awesome\"'"
      ]
     },
     "execution_count": 7,
     "metadata": {},
     "output_type": "execute_result"
    }
   ],
   "source": [
    "execute(\"curl http://localhost:3500/v1.0/state/statestore/dapr%20is\")"
   ]
  },
  {
   "attachments": {},
   "cell_type": "markdown",
   "metadata": {},
   "source": [
    "## Clean up\n",
    "\n",
    "Stop the Dapr process that we started earlier. Expected output:\n",
    "```text\n",
    "✅  app stopped successfully: state-lab-app\n",
    "```"
   ]
  },
  {
   "cell_type": "code",
   "execution_count": 8,
   "metadata": {},
   "outputs": [
    {
     "name": "stdout",
     "output_type": "stream",
     "text": [
      "✅  app stopped successfully: state-lab-app\n",
      "\n"
     ]
    }
   ],
   "source": [
    "print(execute(\"dapr stop --app-id state-lab-app\"))"
   ]
  }
 ],
 "metadata": {
  "kernelspec": {
   "display_name": "Python 3.9.6 64-bit",
   "language": "python",
   "name": "python3"
  },
  "language_info": {
   "codemirror_mode": {
    "name": "ipython",
    "version": 3
   },
   "file_extension": ".py",
   "mimetype": "text/x-python",
   "name": "python",
   "nbconvert_exporter": "python",
   "pygments_lexer": "ipython3",
   "version": "3.9.6"
  },
  "orig_nbformat": 4,
  "vscode": {
   "interpreter": {
    "hash": "31f2aee4e71d21fbe5cf8b01ff0e069b9275f58929596ceb00d14d90e3e16cd6"
   }
  }
 },
 "nbformat": 4,
 "nbformat_minor": 2
}
