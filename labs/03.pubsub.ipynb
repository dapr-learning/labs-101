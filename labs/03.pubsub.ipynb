{
 "cells": [
  {
   "attachments": {},
   "cell_type": "markdown",
   "metadata": {},
   "source": [
    "# Lab 2: Publish & Subscribe"
   ]
  },
  {
   "attachments": {},
   "cell_type": "markdown",
   "metadata": {},
   "source": [
    "Table of contents\n",
    "\n",
    "1. [Overview](#overview)\n",
    "    1. [Features](#features)\n",
    "1. [Prerequisites](#prerequisites)\n",
    "1. [Common pubsub operations](#common-pubsub-operations)\n",
    "    1. [Subscribing to a topic](#subscribing-to-a-topic)\n",
    "    1. [Publishing message to a topic](#publishing-message-to-a-topic)\n",
    "1. [Clean up](#clean-up)\n",
    "1. [Running the quickstart](#running-the-quickstart)\n",
    "1. [Next steps](#next-steps)\n",
    "    1. [References](#references)"
   ]
  },
  {
   "attachments": {},
   "cell_type": "markdown",
   "metadata": {},
   "source": [
    "## Overview\n",
    "\n",
    "Dapr provides publish & subscribe apis for microservices to communicate with each other using messages for event-driven architectures. You can use Dapr to publish message on a topic to a supported message broker ( such as kafka, redis etc.) and also subscribe to topics. The message broker will receive messages for a topic from publisher and send it to all the subscribers of the topic. The list of brokers can be found [here](https://docs.dapr.io/reference/components-reference/supported-pubsub/). \n",
    "\n",
    "In the diagram below, the Dapr API posts an “order” topic from the publishing “cart” service to “order” endpoints on the “shipping” and “email” subscribing services.\n",
    "\n",
    "<img src=\"../static/03-pubsub-API.png\">\n",
    "\n",
    "In this lab, you will learn how to use the Dapr APIs to publish and subscribe."
   ]
  },
  {
   "attachments": {},
   "cell_type": "markdown",
   "metadata": {},
   "source": [
    "### Features\n",
    "\n",
    "Dapr pub/sub API provides several features to your application. Some of these are as follows:\n",
    "\n",
    "1. At-least-once guarantee\n",
    "1. Sending messages using Cloud Events\n",
    "1. Setting message content types\n",
    "1. Partial adoption of Dapr pub/sub in application\n",
    "1. Handling failed messages with dead letter topics\n",
    "1. Message Time-to-Live (TTL)"
   ]
  },
  {
   "attachments": {},
   "cell_type": "markdown",
   "metadata": {},
   "source": [
    "## Prerequisites\n",
    "\n",
    "1. [Install Dapr CLI](https://docs.dapr.io/getting-started/install-dapr-cli/).\n",
    "1. Initialize Dapr in your local environment, run `dapr init` in your terminal.\n",
    "1. Run the cell below to import some helper functions used in this lab."
   ]
  },
  {
   "cell_type": "code",
   "execution_count": null,
   "metadata": {},
   "outputs": [],
   "source": [
    "# Run this cell to import the necessary libraries\n",
    "import json\n",
    "import os\n",
    "import sys\n",
    "import time\n",
    "\n",
    "sys.path.append(os.path.abspath('../utils'))\n",
    "from shell import execute, execute_async"
   ]
  },
  {
   "attachments": {},
   "cell_type": "markdown",
   "metadata": {},
   "source": [
    "If you have set up everything correctly, the following command should display:\n",
    "```text\n",
    "CLI version: x.y.z \n",
    "Runtime version: a.b.c\n",
    "```"
   ]
  },
  {
   "cell_type": "code",
   "execution_count": null,
   "metadata": {},
   "outputs": [],
   "source": [
    "print(execute(\"dapr --version\"))"
   ]
  },
  {
   "cell_type": "markdown",
   "metadata": {},
   "source": [
    "## Common pubsub operations\n",
    "\n",
    "Now that the setup is done, we will be using Dapr for subscribing as well as publishing messages. Note that the messaging broker used below is `Redis` which is by default installed during `dapr init`. "
   ]
  },
  {
   "cell_type": "markdown",
   "metadata": {},
   "source": [
    "### Subscribing to a topic\n",
    "\n",
    "For the subscriber, we will be using `order-processor` app from quickstarts. it subscribes to `orders` topic on Redis instance `orderpubsub` (defined in `pubsub.yaml` in components folder). This enables application to receive messages published on the same instance through Dapr sidecar."
   ]
  },
  {
   "cell_type": "markdown",
   "metadata": {},
   "source": [
    "\n",
    "\n",
    "For running subscriber app, first clone the quickstarts repo.\n",
    "```bash\n",
    "git clone https://github.com/dapr/quickstarts.git\n",
    "```\n",
    "Navigate to the `order-processor` directory, which contains the subscriber application.\n",
    "```bash\n",
    "cd quickstarts/pub_sub/python/http/order-processor\n",
    "```\n",
    "Install the dependencies.\n",
    "```bash\n",
    "pip3 install -r requirements.txt\n",
    "```\n",
    "Finally run the subscriber application alonside Dapr sidecar.\n",
    "```bash\n",
    "dapr run --app-id order-processor --components-path ../../../components/ --app-port 5001 --dapr-http-port 3501 -- python3 app.py\n",
    "```"
   ]
  },
  {
   "cell_type": "markdown",
   "metadata": {},
   "source": [
    "### Publishing messages to a topic\n",
    "\n",
    "For publishing message, first we need to run a dapr sidecar with same pubsub component as subscriber. Publisher application will send a POST request to dapr sidecar on `publish` endpoint and Dapr in-turn will publish messages to the broker.\n",
    "\n",
    "Run the cell below to start the sidecar."
   ]
  },
  {
   "cell_type": "code",
   "execution_count": null,
   "metadata": {},
   "outputs": [],
   "source": [
    "OrderProcessorDirectory = \"quickstarts/pub_sub/python/http/order-processor\"\n",
    "execute_async(f\"cd {OrderProcessorDirectory} && dapr run --app-id checkout --dapr-http-port 3500 --components-path ../../../components/\")"
   ]
  },
  {
   "attachments": {},
   "cell_type": "markdown",
   "metadata": {},
   "source": [
    "Validate that Dapr is running!\n",
    "\n",
    "Expected output:\n",
    "```text\n",
    "  APP ID        HTTP PORT  GRPC PORT  APP PORT  COMMAND  AGE  CREATED  DAPRD PID  CLI PID  \n",
    "  checkout        3500      <random>      0               <X> <datetime>  <pid>     <pid>  \n",
    "  order-processor 3501      <random>     5001             <X> <datetime>  <pid>     <pid>  \n",
    "```"
   ]
  },
  {
   "cell_type": "code",
   "execution_count": null,
   "metadata": {},
   "outputs": [],
   "source": [
    "print(execute(\"dapr list\"))"
   ]
  },
  {
   "cell_type": "markdown",
   "metadata": {},
   "source": [
    "Run the cell below to publish a json object `{\"orderId\":101}` to `orders` topic. We are using `curL` here to send the request."
   ]
  },
  {
   "cell_type": "code",
   "execution_count": null,
   "metadata": {},
   "outputs": [],
   "source": [
    "request_body = json.dumps({\"orderId\":101})\n",
    "print(request_body)\n",
    "execute(f'curl -X POST \\\n",
    "    -H \"Content-Type: application/json\" \\\n",
    "    -d \\'{request_body}\\' \\\n",
    "    http://localhost:3500/v1.0/publish/orderpubsub/orders')"
   ]
  },
  {
   "cell_type": "markdown",
   "metadata": {},
   "source": [
    "You should see the below log in the terminal running subscriber application.\n",
    "\n",
    "```text\n",
    "== APP == Subscriber received : 101\n",
    "```"
   ]
  },
  {
   "cell_type": "markdown",
   "metadata": {},
   "source": [
    "Dapr CLI can also be used for publishing message. Run cell below to publish another message on the same topic."
   ]
  },
  {
   "cell_type": "code",
   "execution_count": null,
   "metadata": {},
   "outputs": [],
   "source": [
    "request_body = json.dumps({\"orderId\":102})\n",
    "execute(f'dapr publish --publish-app-id checkout --pubsub orderpubsub --topic orders --data \\'{request_body}\\'')"
   ]
  },
  {
   "cell_type": "markdown",
   "metadata": {},
   "source": [
    "Again you should see the below log in the terminal running subscriber application.\n",
    "\n",
    "```text\n",
    "== APP == Subscriber received : 102\n",
    "```"
   ]
  },
  {
   "attachments": {},
   "cell_type": "markdown",
   "metadata": {},
   "source": [
    "## Clean up\n",
    "\n",
    "Stop the Dapr process that we started earlier for both publisher and Subscriber. Expected output:\n",
    "```text\n",
    "✅  app stopped successfully: checkout\n",
    "✅  app stopped successfully: order-processor\n",
    "```"
   ]
  },
  {
   "cell_type": "code",
   "execution_count": null,
   "metadata": {},
   "outputs": [],
   "source": [
    "print(execute(\"dapr stop --app-id checkout\"))\n",
    "print(execute(\"dapr stop --app-id order-processor\"))"
   ]
  },
  {
   "attachments": {},
   "cell_type": "markdown",
   "metadata": {},
   "source": [
    "## Running the quickstart\n",
    "\n",
    "Next, check out the quickstart from https://github.com/dapr/quickstarts/tree/master/pub_sub. There are multiple programming languages available, you can choose the one of your choice.\n",
    "\n",
    "Within each quickstart, there are two flavors available\n",
    "1. HTTP - Uses a simple HTTP client to invoke Dapr APIs (similar to what we did in this lab).\n",
    "1. SDK - Uses special Dapr SDKs to call Dapr APIs. This makes it easier to write Dapr applications, as the SDKs abstract away the HTTP calls.\n",
    "\n",
    "You have already seen how to make HTTP calls to invoke Dapr, so you can try out quickstarts using the SDKs. If you are interested in learning more about the Dapr SDKs, you can read more about them [here](https://docs.dapr.io/developing-applications/sdks).\n",
    "\n",
    "\n",
    "\n",
    "To run the quickstart, you can follow the instructions from here https://github.com/dapr/quickstarts/tree/master/pub_sub/python/sdk"
   ]
  },
  {
   "attachments": {},
   "cell_type": "markdown",
   "metadata": {},
   "source": [
    "## Next steps\n",
    "\n",
    "Thank you for completing this lab! Please check out the references below to learn more.\n",
    "\n",
    "### References\n",
    "\n",
    "1. Publish Subscribe overview: https://docs.dapr.io/developing-applications/building-blocks/pubsub/pubsub-overview/\n",
    "1. Publish Subscribe API reference: https://docs.dapr.io/reference/api/pubsub_api/\n",
    "1. Publish Subscribe quickstarts: https://github.com/dapr/quickstarts/tree/master/pub_sub"
   ]
  }
 ],
 "metadata": {
  "kernelspec": {
   "display_name": "Python 3.9.6 64-bit",
   "language": "python",
   "name": "python3"
  },
  "language_info": {
   "codemirror_mode": {
    "name": "ipython",
    "version": 3
   },
   "file_extension": ".py",
   "mimetype": "text/x-python",
   "name": "python",
   "nbconvert_exporter": "python",
   "pygments_lexer": "ipython3",
   "version": "3.8.10"
  },
  "orig_nbformat": 4,
  "vscode": {
   "interpreter": {
    "hash": "31f2aee4e71d21fbe5cf8b01ff0e069b9275f58929596ceb00d14d90e3e16cd6"
   }
  }
 },
 "nbformat": 4,
 "nbformat_minor": 2
}
