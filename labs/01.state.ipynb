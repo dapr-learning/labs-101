{
 "cells": [
  {
   "attachments": {},
   "cell_type": "markdown",
   "metadata": {},
   "source": [
    "# Lab 1: State management"
   ]
  },
  {
   "attachments": {},
   "cell_type": "markdown",
   "metadata": {},
   "source": [
    "Table of contents\n",
    "\n",
    "1. [Overview](#overview)\n",
    "    1. [Features](#features)\n",
    "1. [Prerequisites](#prerequisites)\n",
    "1. [Common state operations](#common-state-operations)\n",
    "    1. [Save a key/value pair](#save-a-key/value-pair)\n",
    "    1. [Get value for a key](#get-value-for-a-key)\n",
    "    1. [Get values for multiple keys](#get-values-for-multiple-keys)\n",
    "    1. [Delete a key/value pair](#delete-a-key/value-pair)\n",
    "    1. [(Optional) Use Redis CLI to view data](#optional-use-redis-cli-to-view-data)\n",
    "1. [Clean up](#clean-up)\n",
    "1. [Running the quickstart](#running-the-quickstart)\n",
    "1. [Next steps](#next-steps)\n",
    "    1. [References](#references)"
   ]
  },
  {
   "attachments": {},
   "cell_type": "markdown",
   "metadata": {},
   "source": [
    "## Overview\n",
    "\n",
    "Your application can use Dapr’s state management API to save, read, and query **key/value pairs** in the supported state stores (such as Redis, Azure Cosmos DB, and Azure SQL Server). See the full list of supported state stores [here](https://docs.dapr.io/reference/components-reference/supported-state-stores/). Using a state store component, you can build stateful, long running applications that save and retrieve their state (like a shopping cart or a game’s session state).\n",
    "\n",
    "<img src=\"../static/01-state-store.png\" width=\"800\">\n",
    "\n",
    "In this lab, you will learn how to use the Dapr state management API to save and retrieve state."
   ]
  },
  {
   "attachments": {},
   "cell_type": "markdown",
   "metadata": {},
   "source": [
    "### Features\n",
    "\n",
    "With the state management API building block, your application can leverage features that are _typically complicated and error-prone to build_, including:\n",
    "1. Concurrency control - Optimistic Concurrency Control (OCC) using ETags\n",
    "1. Data consistency - Strong and Eventual consistency\n",
    "1. Multi-read and multi-write - Bulk (read) or transactional (write, update, and delete) operations\n",
    "1. Querying and filtering using key/value data\n",
    "1. Automatic client encryption\n",
    "1. Time-to-live (TTL) for state entries"
   ]
  },
  {
   "attachments": {},
   "cell_type": "markdown",
   "metadata": {},
   "source": [
    "## Prerequisites\n",
    "\n",
    "1. [Install Dapr CLI](https://docs.dapr.io/getting-started/install-dapr-cli/).\n",
    "1. Initialize Dapr in your local environment, run `dapr init` in your terminal.\n",
    "1. Run the cell below to import some helper functions used in this lab."
   ]
  },
  {
   "cell_type": "code",
   "execution_count": null,
   "metadata": {},
   "outputs": [],
   "source": [
    "# Run this cell to import the necessary libraries\n",
    "import json\n",
    "import os\n",
    "import sys\n",
    "\n",
    "sys.path.append(os.path.abspath('../utils'))\n",
    "from shell import execute, execute_async"
   ]
  },
  {
   "attachments": {},
   "cell_type": "markdown",
   "metadata": {},
   "source": [
    "If you have set up everything correctly, the following command should display:\n",
    "```text\n",
    "CLI version: x.y.z \n",
    "Runtime version: a.b.c\n",
    "```"
   ]
  },
  {
   "cell_type": "code",
   "execution_count": null,
   "metadata": {},
   "outputs": [],
   "source": [
    "print(execute(\"dapr --version\"))"
   ]
  },
  {
   "attachments": {},
   "cell_type": "markdown",
   "metadata": {},
   "source": [
    "Next, run the Dapr process on port 3500."
   ]
  },
  {
   "cell_type": "code",
   "execution_count": null,
   "metadata": {},
   "outputs": [],
   "source": [
    "# Start a daprd process listening on port 3500\n",
    "execute_async(\"dapr run --app-id state-lab-app --dapr-http-port 3500\")"
   ]
  },
  {
   "attachments": {},
   "cell_type": "markdown",
   "metadata": {},
   "source": [
    "Validate that Dapr is running!\n",
    "\n",
    "Expected output:\n",
    "```text\n",
    "  APP ID         HTTP PORT  GRPC PORT  APP PORT  COMMAND  AGE  CREATED  DAPRD PID  CLI PID  \n",
    "  state-lab-app  3500       <random>      0               <X> <datetime>  <pid>     <pid>    \n",
    "```"
   ]
  },
  {
   "cell_type": "code",
   "execution_count": null,
   "metadata": {},
   "outputs": [],
   "source": [
    "print(execute(\"dapr list\"))"
   ]
  },
  {
   "attachments": {},
   "cell_type": "markdown",
   "metadata": {},
   "source": [
    "## Common state operations\n",
    "\n",
    "Now that you have setup Dapr, you can start using the state management API. We will be using cURL via Python to call Dapr APIs. Note, the Dapr CLI comes with a Redis state store component pre-installed, which is used in this lab."
   ]
  },
  {
   "attachments": {},
   "cell_type": "markdown",
   "metadata": {},
   "source": [
    "### Save a key/value pair"
   ]
  },
  {
   "cell_type": "code",
   "execution_count": null,
   "metadata": {},
   "outputs": [],
   "source": [
    "request_body = json.dumps([{\"key\":\"dapr is\", \"value\":\"awesome\"}])\n",
    "execute(f'curl -X POST \\\n",
    "    -H \"Content-Type: application/json\" \\\n",
    "    -d \\'{request_body}\\' \\\n",
    "    http://localhost:3500/v1.0/state/statestore')\n",
    "\n",
    "request_body = json.dumps([{\"key\":\"another key\", \"value\":\"another value\"}])\n",
    "execute(f'curl -X POST \\\n",
    "    -H \"Content-Type: application/json\" \\\n",
    "    -d \\'{request_body}\\' \\\n",
    "    http://localhost:3500/v1.0/state/statestore')"
   ]
  },
  {
   "attachments": {},
   "cell_type": "markdown",
   "metadata": {},
   "source": [
    "### Get value for a key\n",
    "\n",
    "Expected output:\n",
    "```text\n",
    "\"awesome\"\n",
    "```"
   ]
  },
  {
   "cell_type": "code",
   "execution_count": null,
   "metadata": {},
   "outputs": [],
   "source": [
    "print(execute(\"curl http://localhost:3500/v1.0/state/statestore/dapr%20is\"))"
   ]
  },
  {
   "attachments": {},
   "cell_type": "markdown",
   "metadata": {},
   "source": [
    "### Get values for multiple keys\n",
    "\n",
    "You can also query for multiple keys together using a bulk request."
   ]
  },
  {
   "cell_type": "code",
   "execution_count": null,
   "metadata": {},
   "outputs": [],
   "source": [
    "request_body = json.dumps({\"keys\": [\"dapr is\", \"another key\"]})\n",
    "print(execute(f'curl -X POST \\\n",
    "    -H \"Content-Type: application/json\" \\\n",
    "    -d \\'{request_body}\\' \\\n",
    "    http://localhost:3500/v1.0/state/statestore/bulk'))"
   ]
  },
  {
   "attachments": {},
   "cell_type": "markdown",
   "metadata": {},
   "source": [
    "### Deleting a key/value pair"
   ]
  },
  {
   "cell_type": "code",
   "execution_count": null,
   "metadata": {},
   "outputs": [],
   "source": [
    "execute(f'curl -X DELETE http://localhost:3500/v1.0/state/statestore/another%20key')\n",
    "\n",
    "# Query the state store, it should be empty!\n",
    "print(execute(\"curl http://localhost:3500/v1.0/state/statestore/another%20key\"))"
   ]
  },
  {
   "attachments": {},
   "cell_type": "markdown",
   "metadata": {},
   "source": [
    "### (Optional) Use Redis CLI to view data\n",
    "\n",
    "In your terminal, \n",
    "```bash\n",
    "# Connect to the Redis docker container, and run the Redis CLI\n",
    "docker exec -it $(docker ps | grep redis | awk '{print $1}') redis-cli\n",
    "```\n",
    "```bash\n",
    "# List all keys\n",
    "# Output: \"state-lab-app||dapr is\"\n",
    "keys *\n",
    "\n",
    "# Get the value for the key \"dapr is\", created by app \"state-lab-app\"\n",
    "# Output:\n",
    "# 1) \"data\"\n",
    "# 2) \"\\\"awesome\\\"\"\n",
    "# 3) \"version\"\n",
    "# 4) \"1\"\n",
    "HGETALL \"state-lab-app||dapr is\"\n",
    "```"
   ]
  },
  {
   "attachments": {},
   "cell_type": "markdown",
   "metadata": {},
   "source": [
    "## Clean up\n",
    "\n",
    "Stop the Dapr process that we started earlier. Expected output:\n",
    "```text\n",
    "✅  app stopped successfully: state-lab-app\n",
    "```"
   ]
  },
  {
   "cell_type": "code",
   "execution_count": null,
   "metadata": {},
   "outputs": [],
   "source": [
    "print(execute(\"dapr stop --app-id state-lab-app\"))"
   ]
  },
  {
   "attachments": {},
   "cell_type": "markdown",
   "metadata": {},
   "source": [
    "## Running the quickstart\n",
    "\n",
    "Next, check out the quickstart from https://github.com/dapr/quickstarts/tree/master/state_management. There are multiple programming languages available, you can choose the one of your choice.\n",
    "\n",
    "Within each quickstart, there are two flavors available\n",
    "1. HTTP - Uses a simple HTTP client to invoke Dapr APIs (similar to what we did in this lab).\n",
    "1. SDK - Uses special Dapr SDKs to call Dapr APIs. This makes it easier to write Dapr applications, as the SDKs abstract away the HTTP calls.\n",
    "\n",
    "You have already seen how to make HTTP calls to invoke Dapr, so you can try out quickstarts using the SDKs. If you are interested in learning more about the Dapr SDKs, you can read more about them [here](https://docs.dapr.io/developing-applications/sdks).\n",
    "\n",
    "Clone the quickstarts repo if you haven't already:\n",
    "\n",
    "```bash\n",
    "git clone https://github.com/dapr/quickstarts\n",
    "cd quickstarts/state_management/python/sdk\n",
    "```\n",
    "\n",
    "To run the quickstart, you can follow the instructions from here https://github.com/dapr/quickstarts/tree/master/state_management/python/sdk."
   ]
  },
  {
   "attachments": {},
   "cell_type": "markdown",
   "metadata": {},
   "source": [
    "## Next steps\n",
    "\n",
    "Thank you for completing this lab! Please check out the references below to learn more.\n",
    "\n",
    "### References\n",
    "\n",
    "1. State management overview: https://docs.dapr.io/developing-applications/building-blocks/state-management/state-management-overview/\n",
    "1. State management API reference: https://docs.dapr.io/reference/api/state_api/\n",
    "1. State management quickstarts: https://github.com/dapr/quickstarts/tree/master/state_management\n",
    "1. Dapr for dotnet developers article: https://learn.microsoft.com/en-us/dotnet/architecture/dapr-for-net-developers/state-management"
   ]
  }
 ],
 "metadata": {
  "kernelspec": {
   "display_name": "Python 3.9.6 64-bit",
   "language": "python",
   "name": "python3"
  },
  "language_info": {
   "codemirror_mode": {
    "name": "ipython",
    "version": 3
   },
   "file_extension": ".py",
   "mimetype": "text/x-python",
   "name": "python",
   "nbconvert_exporter": "python",
   "pygments_lexer": "ipython3",
   "version": "3.8.10"
  },
  "orig_nbformat": 4,
  "vscode": {
   "interpreter": {
    "hash": "31f2aee4e71d21fbe5cf8b01ff0e069b9275f58929596ceb00d14d90e3e16cd6"
   }
  }
 },
 "nbformat": 4,
 "nbformat_minor": 2
}
